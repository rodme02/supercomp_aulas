{
 "cells": [
  {
   "cell_type": "markdown",
   "metadata": {},
   "source": [
    "# Relatório Aula 11 Supercomp\n",
    "\n",
    "### Rodrigo Paoliello de Medeiros"
   ]
  },
  {
   "cell_type": "markdown",
   "metadata": {},
   "source": [
    "- Saxpy(83, 86) = 501\n",
    "- Saxpy(77, 15) = 400\n",
    "- Saxpy(93, 35) = 500\n",
    "- Saxpy(86, 92) = 522\n",
    "- Saxpy(49, 21) = 266\n",
    "- Saxpy(62, 27) = 337\n",
    "- Saxpy(90, 59) = 509\n",
    "- Saxpy(63, 26) = 341\n",
    "- Saxpy(40, 26) = 226\n",
    "- Saxpy(72, 36) = 396"
   ]
  },
  {
   "cell_type": "markdown",
   "metadata": {},
   "source": [
    "- Magnitude (CPU): 57344.2 em 0.0159013 segundos\n",
    "\n",
    "- Magnitude (GPU): 57297.8 em 0.000964822 segundos"
   ]
  },
  {
   "cell_type": "markdown",
   "metadata": {},
   "source": [
    "- Tamanho do vetor: 1000000\n",
    "  - [Fusion Kernel] Variância: 832.932, Tempo: 0.00167228 segundos\n",
    "  - [Etapas Separadas] Variância: 832.932, Tempo: 0.00118857 segundos\n",
    "\n",
    "- Tamanho do vetor: 5000000\n",
    "  - [Fusion Kernel] Variância: 833.179, Tempo: 0.000897746 segundos\n",
    "  - [Etapas Separadas] Variância: 833.179, Tempo: 0.00170451 segundos\n",
    "\n",
    "-  Tamanho do vetor: 10000000\n",
    "    - [Fusion Kernel] Variância: 833.286, Tempo: 0.00084034 segundos\n",
    "    - [Etapas Separadas] Variância: 833.286, Tempo: 0.0015626 segundos"
   ]
  }
 ],
 "metadata": {
  "language_info": {
   "name": "python"
  }
 },
 "nbformat": 4,
 "nbformat_minor": 2
}
