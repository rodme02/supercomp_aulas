{
 "cells": [
  {
   "cell_type": "markdown",
   "metadata": {},
   "source": [
    "# Aula 14 - SuperComp\n",
    "\n",
    "#### Rodrigo Paoliello de Medeiros"
   ]
  },
  {
   "cell_type": "markdown",
   "metadata": {},
   "source": [
    "## Parte 1: Implementação Sequencial\n",
    "\n",
    "- N = 100000000\n",
    "\n",
    "- Tempo de execução: 5.71053 segundos\n",
    "\n",
    "- Valor de pi: 3.14177\n",
    "\n",
    "### Reflexão\n",
    "\n",
    "- Geração de Números Aleatórios: A sequência foi gerada utilizando std::rand() e std::srand() com a semente baseada no tempo, garantindo variação a cada execução.\n",
    "\n",
    "- Dificuldade: A implementação foi simples e direta, porém é importante garantir que os números gerados estejam distribuídos uniformemente."
   ]
  },
  {
   "cell_type": "markdown",
   "metadata": {},
   "source": [
    "## Parte 2: Primeira Tentativa de Paralelização\n",
    "\n",
    "- N = 100000000\n",
    "\n",
    "- Tempo de execução: 22.2867 segundos\n",
    "\n",
    "- Valor de pi: 3.14156\n",
    "\n",
    "### Reflexão\n",
    "\n",
    "- Desafio com Números Aleatórios: A geração de números aleatórios em paralelo gerou competição entre as threads, o que resultou em uma queda significativa de desempenho. O uso de omp critical para proteger a geração dos números introduziu um gargalo, tornando a versão paralela mais lenta que a sequencial.\n",
    "\n",
    "- Impacto no Desempenho: O tempo de execução aumentou devido à contenção das threads pelo gerador de números aleatórios, demonstrando que a simples paralelização do sorteio de pontos sem otimizações adicionais pode ser ineficaz."
   ]
  },
  {
   "cell_type": "markdown",
   "metadata": {},
   "source": [
    "## Parte 3: Melhorando a Paralelização\n",
    "\n",
    "- N = 100000000\n",
    "\n",
    "- Tempo de execução: 5.33759 segundos\n",
    "\n",
    "- Valor de pi: 3.14135\n",
    "\n",
    "### Reflexão\n",
    "\n",
    "- Geração Eficiente de Números Aleatórios: Atribuir geradores independentes a cada thread eliminou o gargalo, melhorando o desempenho em relação à primeira tentativa de paralelização. A versão paralela otimizada aproximou-se do tempo da versão sequencial, mas não superou significativamente seu desempenho.\n",
    "\n",
    "- Precisão: O valor estimado de π manteve-se consistente, com pequenas variações aceitáveis devido à aleatoriedade natural do método.\n",
    "\n",
    "- Melhoria no Tempo de Execução: Apesar da otimização, a versão paralela ainda não conseguiu superar a sequencial, possivelmente devido ao overhead de gerenciamento das threads."
   ]
  },
  {
   "cell_type": "markdown",
   "metadata": {},
   "source": [
    "## Conclusão e Comparação\n",
    "\n",
    "| Versão                | Tempo de Execução (s) | Valor de Pi Estimado |\n",
    "|-----------------------|-----------------------|----------------------|\n",
    "| Sequencial            | 5.71053               | 3.14177              |\n",
    "| Paralela (1ª Tentativa)| 22.2867               | 3.14156              |\n",
    "| Paralela (Melhorada)  | 5.33759               | 3.14135              |\n",
    "\n",
    "#### Houve uma melhoria significativa no tempo de execução entre a versão sequencial e as versões paralelas?\n",
    "\n",
    "Não, a primeira tentativa de paralelização foi significativamente mais lenta que a versão sequencial. A versão paralela otimizada melhorou em relação à primeira tentativa, mas ainda assim teve desempenho semelhante à versão sequencial, sem grandes ganhos.\n",
    "\n",
    "#### A estimativa de pi permaneceu precisa em todas as versões?\n",
    "\n",
    "Sim, a estimativa de π manteve-se precisa em todas as versões, com variações menores esperadas devido à natureza estocástica do método.\n",
    "\n",
    "#### Quais foram os maiores desafios ao paralelizar o algoritmo, especialmente em relação aos números aleatórios?\n",
    "\n",
    "O maior desafio foi garantir a eficiência e independência dos geradores de números aleatórios para cada thread. A competição por um gerador global causou uma queda significativa de desempenho, e a solução foi implementar geradores independentes para cada thread.\n",
    "\n",
    "#### O uso de threads trouxe benefícios claros para este problema específico?\n",
    "\n",
    "Não de maneira significativa. O overhead de gerenciamento de threads, combinado com a complexidade de garantir uma geração de números aleatórios eficiente, fez com que a versão sequencial fosse mais eficiente ou praticamente equivalente, mesmo com a otimização."
   ]
  }
 ],
 "metadata": {
  "language_info": {
   "name": "python"
  }
 },
 "nbformat": 4,
 "nbformat_minor": 2
}
