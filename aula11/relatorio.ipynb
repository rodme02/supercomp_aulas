{
 "cells": [
  {
   "cell_type": "markdown",
   "metadata": {},
   "source": [
    "# Aula 11 - Relatório\n",
    "### Rodrigo Paoliello de Medeiros\n",
    "\n",
    "\n",
    "Variância das diferenças diárias: 3168.44\n",
    "\n",
    "Número de dias com aumento de preço: 3056\n",
    "\n",
    "Aumento médio nos dias em que o preço subiu: 3.15251\n",
    "\n"
   ]
  },
  {
   "cell_type": "markdown",
   "metadata": {},
   "source": [
    "O uso da GPU otimiza os cálculos por meio de operações paralelas, acelerando funções como transformações e reduções. Iteradores dinâmicos, como `thrust::make_constant_iterator`, evitam alocações desnecessárias de memória, gerando valores em tempo real. Operações in-place reduzem ainda mais o uso de memória, melhorando a eficiência. Assim, a GPU proporciona ganhos significativos de desempenho e escalabilidade em comparação com a CPU, especialmente ao lidar com grandes volumes de dados."
   ]
  }
 ],
 "metadata": {
  "language_info": {
   "name": "python"
  }
 },
 "nbformat": 4,
 "nbformat_minor": 2
}
