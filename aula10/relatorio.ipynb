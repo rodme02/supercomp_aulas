{
 "cells": [
  {
   "cell_type": "markdown",
   "metadata": {},
   "source": [
    "# Relatório SuperComp - Aula 10\n",
    "\n",
    "### Rodrigo Paoliello de Medeiros"
   ]
  },
  {
   "cell_type": "markdown",
   "metadata": {},
   "source": [
    "## Exercício 1\n",
    "\n",
    "Tempo de transferência dos dados para a GPU: 0.234908 segundos."
   ]
  },
  {
   "cell_type": "markdown",
   "metadata": {},
   "source": [
    "## Exercício 2\n",
    "\n",
    "Preço médio total (últimos 10 anos): 1580.08\n",
    "\n",
    "Preço médio último ano: 1615.81\n",
    "\n",
    "Menor preço total (últimos 10 anos): 1015.24\n",
    "\n",
    "Maior preço total (últimos 10 anos): 2200\n",
    "\n",
    "Menor preço último ano: 1060.5\n",
    "\n",
    "Maior preço último ano: 2200"
   ]
  },
  {
   "cell_type": "markdown",
   "metadata": {},
   "source": [
    "## Exercício 3\n",
    "\n",
    "A Microsoft teve um preço médio maior.\n",
    "Diferença média de preço: 265.232"
   ]
  }
 ],
 "metadata": {
  "language_info": {
   "name": "python"
  }
 },
 "nbformat": 4,
 "nbformat_minor": 2
}
