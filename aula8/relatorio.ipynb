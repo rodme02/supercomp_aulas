{
 "cells": [
  {
   "cell_type": "markdown",
   "metadata": {},
   "source": [
    "## Tempo de Execução\n",
    "\n",
    "Nos três conjuntos de testes, os algoritmos da aula 7, Embaralhar e Preencher e Seleção Aleatória, se destacaram pelos menores tempos de execução, especialmente o Embaralhar e Preencher, que consistentemente apresentou os melhores tempos. Na Entrada 1, ele levou 400 ns, na Entrada 2, 500 ns, e na Entrada 3, novamente 500 ns. Isso torna este método ideal em situações onde o tempo de execução é a prioridade.\n",
    "\n",
    "Por outro lado, os algoritmos da aula 8, como Substituição de Objeto e Hill Climbing, mostraram-se mais lentos, especialmente o Substituição de Objeto, que teve o pior tempo em todas as entradas, com 10500 ns na Entrada 1 e 13800 ns na Entrada 2. Hill Climbing foi mais eficiente, ficando com tempos entre 700 ns e 1500 ns, o que o torna uma boa opção quando o tempo de execução é importante, mas ainda se deseja uma solução com alguma qualidade.\n",
    "\n",
    "## Qualidade das Soluções\n",
    "\n",
    "Quando consideramos o valor total (qualidade da solução), os algoritmos da aula 8 superaram consistentemente os da aula 7. Substituição de Objeto foi o grande vencedor em todas as entradas, obtendo os melhores valores totais, como 548 na Entrada 1 e 621 na Entrada 3. Isso demonstra a capacidade deste algoritmo de maximizar o valor da solução, mesmo que leve mais tempo para isso.\n",
    "\n",
    "Hill Climbing teve desempenho misto: na Entrada 3, alcançou um valor elevado de 555, embora tenha ficado atrás de Substituição de Objeto. Nas Entradas 1 e 2, no entanto, seus valores foram significativamente inferiores, com 221 e 143, respectivamente, indicando uma certa inconsistência no desempenho.\n",
    "\n",
    "Por outro lado, os algoritmos da aula 7, como Embaralhar e Preencher e Seleção Aleatória, apresentaram soluções de qualidade inferior. Embaralhar e Preencher teve resultados aceitáveis, com 406 na Entrada 1 e 532 na Entrada 3, mas ficou longe de alcançar o desempenho dos algoritmos da aula 8. Seleção Aleatória teve um desempenho ainda mais inconsistente, com valores de 277 na Entrada 2 e 446 na Entrada 3, demonstrando que, apesar de ser rápido, é menos confiável para alcançar boas soluções."
   ]
  }
 ],
 "metadata": {
  "kernelspec": {
   "display_name": "Python 3",
   "language": "python",
   "name": "python3"
  },
  "language_info": {
   "codemirror_mode": {
    "name": "ipython",
    "version": 3
   },
   "file_extension": ".py",
   "mimetype": "text/x-python",
   "name": "python",
   "nbconvert_exporter": "python",
   "pygments_lexer": "ipython3",
   "version": "3.12.4"
  }
 },
 "nbformat": 4,
 "nbformat_minor": 2
}
